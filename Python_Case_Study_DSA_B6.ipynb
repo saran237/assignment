{
  "cells": [
    {
      "cell_type": "markdown",
      "metadata": {
        "id": "zVV_KMSIUG-A"
      },
      "source": [
        "# Answer the following questions using only builtin Python datatypes and functions. Do not use Numpy or Scipy (i.e. No library imports allowed)"
      ]
    },
    {
      "cell_type": "markdown",
      "metadata": {
        "id": "uZnK7VgWV5SI"
      },
      "source": [
        "# Q1. Write a function that return the range (maximum and minimun) of a given list of numbers"
      ]
    },
    {
      "cell_type": "code",
      "execution_count": 6,
      "metadata": {
        "id": "vuAbJQcOWAM7"
      },
      "outputs": [
        {
          "name": "stdout",
          "output_type": "stream",
          "text": [
            "Range 1 , 9\n"
          ]
        }
      ],
      "source": [
        "n=[3,6,7,1,9,2]\n",
        "def min_max(n):\n",
        "    min_value=min(n)\n",
        "    max_value=max(n)\n",
        "    print(\"Range\",min_value,\",\",max_value)\n",
        "    \n",
        "min_max(n)"
      ]
    },
    {
      "cell_type": "markdown",
      "metadata": {
        "id": "Y5_v5a8_U1O-"
      },
      "source": [
        "## Q2. Write function that returns mean value of a list of numbers"
      ]
    },
    {
      "cell_type": "code",
      "execution_count": 3,
      "metadata": {
        "id": "RajjEyacU7Sc"
      },
      "outputs": [
        {
          "name": "stdout",
          "output_type": "stream",
          "text": [
            "Mean value : 1.0\n"
          ]
        }
      ],
      "source": [
        "n=[1,1,1,1,1,1,1]\n",
        "def mean(n):\n",
        "    a = sum(n) / len(n)\n",
        "    print(\"Mean value :\", a)\n",
        "\n",
        "mean(n)"
      ]
    },
    {
      "cell_type": "markdown",
      "metadata": {
        "id": "OpeRxoEoVTIP"
      },
      "source": [
        "# Q3. Write a function that returns the median value of a list of numbers"
      ]
    },
    {
      "cell_type": "code",
      "execution_count": 15,
      "metadata": {
        "id": "u1CUy0UOVaQi"
      },
      "outputs": [
        {
          "name": "stdout",
          "output_type": "stream",
          "text": [
            "Median value: 5\n"
          ]
        }
      ],
      "source": [
        "n=[1,2,3,4,5,6,7,8,9]\n",
        "def median(n):\n",
        "    s = sorted(n)\n",
        "    l = len(s)\n",
        "    if l%2 == 0:\n",
        "        median_value = (s[l//2] + s[l//2-1])/2\n",
        "        print(\"Median value:\", median_value)\n",
        "    else:\n",
        "        median_value = s[l//2]\n",
        "        print(\"Median value:\", median_value)\n",
        "\n",
        "median(n)    "
      ]
    },
    {
      "cell_type": "markdown",
      "metadata": {
        "id": "2EMOG7AZSqVn"
      },
      "source": [
        "## Q4. Write a function to return the mod of a list of numbers, if no mod exists, it should return None. If more than one mod exist, return the mod values as list"
      ]
    },
    {
      "cell_type": "code",
      "execution_count": null,
      "metadata": {
        "id": "qnMm2dhhSk3-"
      },
      "outputs": [],
      "source": [
        "n=[1,2,3,4,4,4,4,5,6,7,8,9]\n",
        "def mode(n):\n",
        "    \n",
        "\n",
        "\n",
        "\n",
        "\n"
      ]
    },
    {
      "cell_type": "markdown",
      "metadata": {
        "id": "LcqWwqtgTCiL"
      },
      "source": [
        "## Q5. Write function to compute a given percentile value (e.g. 90th percentile) of a list of numbers"
      ]
    },
    {
      "cell_type": "code",
      "execution_count": null,
      "metadata": {},
      "outputs": [],
      "source": []
    },
    {
      "cell_type": "code",
      "execution_count": 31,
      "metadata": {
        "id": "Sn307h0TTb2b"
      },
      "outputs": [
        {
          "name": "stdout",
          "output_type": "stream",
          "text": [
            "90th  percentile is 20\n"
          ]
        }
      ],
      "source": [
        "n = [9, 6,12,15,2, 6, 1, 5,11,20,8]\n",
        "def percentile(n):\n",
        "    n.sort()\n",
        "    b=len(n)\n",
        "    p=(90/100 * (b+1))\n",
        "    y = int(p)\n",
        "    fraction=p-y\n",
        "    if y+1 < b:\n",
        "        m=n[y] + fraction * (n[y+1] - n[y])\n",
        "        print(\"90th percentile is\", m)\n",
        "    else:\n",
        "        print(\"90th  percentile is\", n[y])\n",
        "    \n",
        "percentile(n)\n",
        "\n",
        "\n",
        "  \n"
      ]
    },
    {
      "cell_type": "markdown",
      "metadata": {
        "id": "N-TYHkDcWOfS"
      },
      "source": [
        "# Q6. Write a function that returns the lower bound of a list of numbers"
      ]
    },
    {
      "cell_type": "code",
      "execution_count": 54,
      "metadata": {
        "id": "Y-RKPdKuW5nx"
      },
      "outputs": [
        {
          "name": "stdout",
          "output_type": "stream",
          "text": [
            "lower bound= -2.5\n"
          ]
        }
      ],
      "source": [
        "def lower():\n",
        "    x= [1,8,4,7]\n",
        "\n",
        "    x.sort()\n",
        "\n",
        "    a=len(x)\n",
        "\n",
        "    q1=(25/100)*(a+1)\n",
        "\n",
        "    q2=(75/100)*(a+1)\n",
        "\n",
        "    IQR=q2-q1\n",
        "\n",
        "    lb=q1-1.5*IQR\n",
        "\n",
        "    print(\"lower bound=\", lb)\n",
        "\n",
        "lower()\n"
      ]
    },
    {
      "cell_type": "markdown",
      "metadata": {
        "id": "5aHfaI_jThpX"
      },
      "source": [
        "## Q7. Write function to return any outliers from a given list of numbers, if no outliers present it should return None"
      ]
    },
    {
      "cell_type": "code",
      "execution_count": 55,
      "metadata": {
        "id": "gG6-qzT7T0Si"
      },
      "outputs": [
        {
          "name": "stdout",
          "output_type": "stream",
          "text": [
            "[9]\n"
          ]
        }
      ],
      "source": [
        "def outliers():\n",
        "    x=[1,7,4,9]\n",
        "\n",
        "    x.sort()\n",
        "\n",
        "    a=len(x)\n",
        "\n",
        "    q1=(25/100)*(a+1)\n",
        "\n",
        "    q2=(75/100)*(a+1)\n",
        "\n",
        "    IQR=q2-q1\n",
        "\n",
        "    lb=(q1-1.5*IQR)\n",
        "\n",
        "    ub=(q2+1.5*IQR)\n",
        "\n",
        "    outliers=[]\n",
        "\n",
        "    for i in x:\n",
        "\n",
        "        if i<lb or i>ub:\n",
        "\n",
        "            outliers.append(i)\n",
        "\n",
        "    if outliers:\n",
        "\n",
        "        return outliers\n",
        "\n",
        "    else:\n",
        "        return None\n",
        "\n",
        "outliers()\n",
        "\n",
        "print(outliers())\n"
      ]
    },
    {
      "cell_type": "markdown",
      "metadata": {
        "id": "jI9t-tcDT5EK"
      },
      "source": [
        "## Q8. Write a function to return standard deviation of a list of numbers"
      ]
    },
    {
      "cell_type": "code",
      "execution_count": 59,
      "metadata": {
        "id": "MMU_cMlLUFxJ"
      },
      "outputs": [
        {
          "name": "stdout",
          "output_type": "stream",
          "text": [
            "mean:  5.0\n",
            "variance 6.666666666666667\n",
            "standard deviation: 2.581988897471611\n"
          ]
        }
      ],
      "source": [
        "a=[1,4,5,2,3,5,6,7,8,9]\n",
        "def find_std():\n",
        "    mean=sum(a)/len(a)\n",
        "    print(\"mean: \",mean)\n",
        "    variance=sum((i-mean)**2 for i in a)/(len(a)-1)\n",
        "    print(\"variance\",variance)\n",
        "    std=variance**0.5\n",
        "    print(\"standard deviation:\",std)\n",
        "find_std()"
      ]
    },
    {
      "cell_type": "markdown",
      "metadata": {
        "id": "LufmQDJPURkM"
      },
      "source": [
        "## Q9. Write function to compute and return Z-score values of a list of numbers"
      ]
    },
    {
      "cell_type": "code",
      "execution_count": 62,
      "metadata": {
        "id": "ml2qpSpFUYxV"
      },
      "outputs": [
        {
          "ename": "TypeError",
          "evalue": "unsupported operand type(s) for /: 'generator' and 'float'",
          "output_type": "error",
          "traceback": [
            "\u001b[31m---------------------------------------------------------------------------\u001b[39m",
            "\u001b[31mTypeError\u001b[39m                                 Traceback (most recent call last)",
            "\u001b[36mCell\u001b[39m\u001b[36m \u001b[39m\u001b[32mIn[62]\u001b[39m\u001b[32m, line 9\u001b[39m\n\u001b[32m      7\u001b[39m     z=b/std\n\u001b[32m      8\u001b[39m     \u001b[38;5;28mprint\u001b[39m(\u001b[33m\"\u001b[39m\u001b[33mz-score:\u001b[39m\u001b[33m\"\u001b[39m, z)\n\u001b[32m----> \u001b[39m\u001b[32m9\u001b[39m \u001b[43mfind_std\u001b[49m\u001b[43m(\u001b[49m\u001b[43m)\u001b[49m\n",
            "\u001b[36mCell\u001b[39m\u001b[36m \u001b[39m\u001b[32mIn[62]\u001b[39m\u001b[32m, line 7\u001b[39m, in \u001b[36mfind_std\u001b[39m\u001b[34m()\u001b[39m\n\u001b[32m      5\u001b[39m variance=\u001b[38;5;28msum\u001b[39m((i-mean)**\u001b[32m2\u001b[39m \u001b[38;5;28;01mfor\u001b[39;00m i \u001b[38;5;129;01min\u001b[39;00m a)//(\u001b[38;5;28mlen\u001b[39m(a)-\u001b[32m1\u001b[39m)\n\u001b[32m      6\u001b[39m std=variance**\u001b[32m0.5\u001b[39m\n\u001b[32m----> \u001b[39m\u001b[32m7\u001b[39m z=\u001b[43mb\u001b[49m\u001b[43m/\u001b[49m\u001b[43mstd\u001b[49m\n\u001b[32m      8\u001b[39m \u001b[38;5;28mprint\u001b[39m(\u001b[33m\"\u001b[39m\u001b[33mz-score:\u001b[39m\u001b[33m\"\u001b[39m, z)\n",
            "\u001b[31mTypeError\u001b[39m: unsupported operand type(s) for /: 'generator' and 'float'"
          ]
        }
      ],
      "source": [
        "a=[1,4,5,2,3,5,6,7,8,9]\n",
        "def find_std():\n",
        "    mean=sum(a)/len(a)\n",
        "    b=(i-mean for i in a)\n",
        "    variance=sum((i-mean)**2 for i in a)//(len(a)-1)\n",
        "    std=variance**0.5\n",
        "    z=b/std\n",
        "    print(\"z-score:\", z)\n",
        "find_std()\n",
        "\n"
      ]
    },
    {
      "cell_type": "markdown",
      "metadata": {
        "id": "YQSNHIfxUb6s"
      },
      "source": [
        "## Q10. Write a function to compute and return the Pearson correlation coefficient value of two list of numbers"
      ]
    },
    {
      "cell_type": "code",
      "execution_count": null,
      "metadata": {
        "id": "1YGqr3T6Uk6H"
      },
      "outputs": [],
      "source": []
    }
  ],
  "metadata": {
    "colab": {
      "provenance": []
    },
    "kernelspec": {
      "display_name": "Python 3",
      "name": "python3"
    },
    "language_info": {
      "codemirror_mode": {
        "name": "ipython",
        "version": 3
      },
      "file_extension": ".py",
      "mimetype": "text/x-python",
      "name": "python",
      "nbconvert_exporter": "python",
      "pygments_lexer": "ipython3",
      "version": "3.13.4"
    }
  },
  "nbformat": 4,
  "nbformat_minor": 0
}
