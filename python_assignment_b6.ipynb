{
 "cells": [
  {
   "cell_type": "markdown",
   "id": "d2328cad",
   "metadata": {},
   "source": [
    "# Python Basics Assignment"
   ]
  },
  {
   "cell_type": "markdown",
   "id": "cb537954",
   "metadata": {},
   "source": [
    "### Question 1\n",
    "Write a function to compute number of vowels in a string given as input"
   ]
  },
  {
   "cell_type": "code",
   "execution_count": 78,
   "id": "cf213ba2",
   "metadata": {},
   "outputs": [
    {
     "name": "stdout",
     "output_type": "stream",
     "text": [
      "Number of vowels: 4\n"
     ]
    }
   ],
   "source": [
    "# Your code here\n",
    "n=input(\"Enter the sentence:\")\n",
    "v=('a','e','i','o','u')\n",
    "def your_function_1():\n",
    "    count=0\n",
    "    for i in n:\n",
    "        if i.lower() in v:\n",
    "            count+=1\n",
    "    print(\"Number of vowels:\",count)\n",
    "    \n",
    "your_function_1()\n",
    "        \n",
    "\n",
    "\n",
    "\n"
   ]
  },
  {
   "cell_type": "markdown",
   "id": "4eaff430",
   "metadata": {},
   "source": [
    "### Question 2\n",
    "Write a function that checks whether a number is prime."
   ]
  },
  {
   "cell_type": "code",
   "execution_count": 46,
   "id": "81934cf7",
   "metadata": {},
   "outputs": [
    {
     "name": "stdout",
     "output_type": "stream",
     "text": [
      "4 is not a prime number\n"
     ]
    }
   ],
   "source": [
    "# Your code here\n",
    "n=int(input(\"Enter a number: \"))\n",
    "def your_function_2():\n",
    "    if n<=1:\n",
    "        return False\n",
    "        for i in range(2,n):\n",
    "            if n%i==0:\n",
    "                return False\n",
    "        return True\n",
    "\n",
    "if your_function_2():\n",
    "    print(n,\"is a prime number\")\n",
    "else:\n",
    "    print(n,\"is not a prime number\")\n",
    "\n",
    "        \n",
    "\n"
   ]
  },
  {
   "cell_type": "markdown",
   "id": "5f061e50",
   "metadata": {},
   "source": [
    "### Question 3\n",
    "Write a function to return the maximum of two numbers."
   ]
  },
  {
   "cell_type": "code",
   "execution_count": 47,
   "id": "44e2a596",
   "metadata": {},
   "outputs": [
    {
     "name": "stdout",
     "output_type": "stream",
     "text": [
      "The greater number is: 7\n"
     ]
    }
   ],
   "source": [
    "# Your code here\n",
    "a=int(input(\"Enter 1st number: \"))\n",
    "b=int(input(\"Enter 2nd number: \"))\n",
    "def your_function_3(a,b):\n",
    "    if a>b:\n",
    "        return a\n",
    "    else:\n",
    "        return b\n",
    "print(\"The greater number is:\", your_function_3(a,b))\n",
    "\n",
    "\n",
    "    "
   ]
  },
  {
   "cell_type": "code",
   "execution_count": null,
   "id": "a80761c5",
   "metadata": {},
   "outputs": [],
   "source": []
  },
  {
   "cell_type": "markdown",
   "id": "7513ca91",
   "metadata": {},
   "source": [
    "### Question 4\n",
    "Write a function to return the factorial of a number."
   ]
  },
  {
   "cell_type": "code",
   "execution_count": 55,
   "id": "6617842f",
   "metadata": {},
   "outputs": [
    {
     "name": "stdout",
     "output_type": "stream",
     "text": [
      "Factorial of the number is: 120\n"
     ]
    }
   ],
   "source": [
    "# Your code here\n",
    "def factorial(n):\n",
    "    if n==0 or n==1:\n",
    "        return 1\n",
    "    else:\n",
    "        return n*factorial(n-1)\n",
    "print(\"Factorial of the number is:\", factorial(5))"
   ]
  },
  {
   "cell_type": "markdown",
   "id": "9b942098",
   "metadata": {},
   "source": [
    "### Question 5\n",
    "Write a function to reverse a string without string indexing."
   ]
  },
  {
   "cell_type": "code",
   "execution_count": 72,
   "id": "d606b194",
   "metadata": {},
   "outputs": [
    {
     "name": "stdout",
     "output_type": "stream",
     "text": [
      "Reversed string is: naras\n"
     ]
    }
   ],
   "source": [
    "# Your code here\n",
    "def your_function_5():\n",
    "    n=input(\"Enter a string: \")\n",
    "    rev=reversed(n)\n",
    "    print(\"Reversed string is:\",''.join( rev))\n",
    "your_function_5()"
   ]
  },
  {
   "cell_type": "markdown",
   "id": "1abd915b",
   "metadata": {},
   "source": [
    "### Question 6\n",
    "Write a function to check if a string is a palindrome."
   ]
  },
  {
   "cell_type": "code",
   "execution_count": 74,
   "id": "2b868fb3",
   "metadata": {},
   "outputs": [
    {
     "name": "stdout",
     "output_type": "stream",
     "text": [
      "the string is palindrome\n"
     ]
    }
   ],
   "source": [
    "# Your code here\n",
    "def your_function_6():\n",
    "    n=input(\"Enter a string: \")\n",
    "    rev=reversed(n)\n",
    "    s=''.join(rev)\n",
    "    if n==s:\n",
    "        print(\"the string is palindrome\")\n",
    "    else:\n",
    "        print(\"the string is not palindrome\")\n",
    "your_function_6()"
   ]
  },
  {
   "cell_type": "markdown",
   "id": "5f2f3791",
   "metadata": {},
   "source": [
    "### Question 7\n",
    "Write a function to count vowels in a string."
   ]
  },
  {
   "cell_type": "code",
   "execution_count": 79,
   "id": "73fefa50",
   "metadata": {},
   "outputs": [
    {
     "name": "stdout",
     "output_type": "stream",
     "text": [
      "Number of vowels: 5\n"
     ]
    }
   ],
   "source": [
    "# Your code here\n",
    "n=input(\"Enter the sentence:\")\n",
    "v=('a','e','i','o','u')\n",
    "def your_function_7():\n",
    "    count=0\n",
    "    for i in n:\n",
    "        if i.lower() in v:\n",
    "            count+=1\n",
    "    print(\"Number of vowels:\",count)\n",
    "    \n",
    "your_function_7()"
   ]
  },
  {
   "cell_type": "markdown",
   "id": "0d3a9996",
   "metadata": {},
   "source": [
    "### Question 8\n",
    "Write a function that returns the sum of a list."
   ]
  },
  {
   "cell_type": "code",
   "execution_count": 82,
   "id": "ab6afc66",
   "metadata": {},
   "outputs": [
    {
     "name": "stdout",
     "output_type": "stream",
     "text": [
      "Sum of the list is: 55\n"
     ]
    }
   ],
   "source": [
    "# Your code here\n",
    "def your_function_8():\n",
    "    n=[1,2,3,4,5,6,7,8,9,10]\n",
    "    a=sum(n)\n",
    "    print(\"Sum of the list is:\", a)\n",
    "your_function_8()"
   ]
  },
  {
   "cell_type": "markdown",
   "id": "f6682500",
   "metadata": {},
   "source": [
    "### Question 9\n",
    "Write a function to find the smallest number in a list."
   ]
  },
  {
   "cell_type": "code",
   "execution_count": 83,
   "id": "6798a641",
   "metadata": {},
   "outputs": [
    {
     "name": "stdout",
     "output_type": "stream",
     "text": [
      "Minimum number in the list is: 1\n"
     ]
    }
   ],
   "source": [
    "# Your code here\n",
    "def your_function_9():\n",
    "    n=[1,2,3,4,5,6,7]\n",
    "    a=min(n)\n",
    "    print(\"Minimum number in the list is:\", a)\n",
    "your_function_9()"
   ]
  },
  {
   "cell_type": "markdown",
   "id": "fb11e683",
   "metadata": {},
   "source": [
    "### Question 10\n",
    "Write a function to remove duplicates from a list."
   ]
  },
  {
   "cell_type": "code",
   "execution_count": 87,
   "id": "7c53f88c",
   "metadata": {},
   "outputs": [
    {
     "name": "stdout",
     "output_type": "stream",
     "text": [
      "Duplicates removed : [1, 2, 3, 4, 5, 6, 7]\n"
     ]
    }
   ],
   "source": [
    "# Your code here\n",
    "def your_function_10():\n",
    "    n=[1,2,2,3,3,3,4,5,6,7,7]\n",
    "    a=set(n)\n",
    "    b=list(a)\n",
    "    print(\"Duplicates removed :\",b)\n",
    "your_function_10()"
   ]
  },
  {
   "cell_type": "markdown",
   "id": "9c380a5c",
   "metadata": {},
   "source": [
    "### Question 11\n",
    "Write a function to sort a list in ascending order without using builtin sort function"
   ]
  },
  {
   "cell_type": "code",
   "execution_count": 93,
   "id": "fc5acb2e",
   "metadata": {},
   "outputs": [
    {
     "name": "stdout",
     "output_type": "stream",
     "text": [
      "Sorted list is: [1, 2, 5, 5, 6, 9]\n"
     ]
    }
   ],
   "source": [
    "#Write a function to sort a list in ascending order without using builtin sort function\n",
    "def sort():\n",
    "    n = [5, 2, 9, 1, 5, 6]\n",
    "    for i in range(len(n)):\n",
    "        for j in range(i + 1, len(n)):\n",
    "            if n[i] > n[j]:\n",
    "                n[i], n[j] = n[j], n[i]\n",
    "    print(\"Sorted list is:\", n)\n",
    "sort()"
   ]
  },
  {
   "cell_type": "markdown",
   "id": "1270c91c",
   "metadata": {},
   "source": [
    "### Question 12\n",
    "Write a function that returns the length of a string."
   ]
  },
  {
   "cell_type": "code",
   "execution_count": 94,
   "id": "87f35472",
   "metadata": {},
   "outputs": [
    {
     "name": "stdout",
     "output_type": "stream",
     "text": [
      "Length of the string is: 5\n"
     ]
    }
   ],
   "source": [
    "# Your code here\n",
    "def your_function_12():\n",
    "    n=\"saran\"\n",
    "    l=len(n)\n",
    "    print(\"Length of the string is:\", l)\n",
    "your_function_12()"
   ]
  },
  {
   "cell_type": "markdown",
   "id": "9a8e3d28",
   "metadata": {},
   "source": [
    "### Question 13\n",
    "Write a function to count words in a sentence."
   ]
  },
  {
   "cell_type": "code",
   "execution_count": 96,
   "id": "e6f996ef",
   "metadata": {},
   "outputs": [
    {
     "name": "stdout",
     "output_type": "stream",
     "text": [
      "Number of words in the sentence is: 5\n"
     ]
    }
   ],
   "source": [
    "# Your code here\n",
    "def your_function_13():\n",
    "    n=\"Shadiya is very good girl\"\n",
    "    words = n.split()\n",
    "    l=len(words)\n",
    "    print(\"Number of words in the sentence is:\", l)\n",
    "\n",
    "your_function_13()\n",
    "\n",
    "    \n"
   ]
  },
  {
   "cell_type": "markdown",
   "id": "430c2e4a",
   "metadata": {},
   "source": [
    "### Question 14\n",
    "Write a function to convert Celsius to Fahrenheit."
   ]
  },
  {
   "cell_type": "code",
   "execution_count": 97,
   "id": "b710b0bd",
   "metadata": {},
   "outputs": [
    {
     "data": {
      "text/plain": [
       "77.0"
      ]
     },
     "execution_count": 97,
     "metadata": {},
     "output_type": "execute_result"
    }
   ],
   "source": [
    "#Write a function to convert Celsius to Fahrenheit.\n",
    "def your_function_14(celsius):\n",
    "    fahrenheit = (celsius * 9/5) + 32\n",
    "    return fahrenheit\n",
    "your_function_14(25)"
   ]
  },
  {
   "cell_type": "markdown",
   "id": "acefe5e3",
   "metadata": {},
   "source": [
    "### Question 15\n",
    "Write a function to check if a number is palindrome."
   ]
  },
  {
   "cell_type": "code",
   "execution_count": 104,
   "id": "b700abae",
   "metadata": {},
   "outputs": [
    {
     "name": "stdout",
     "output_type": "stream",
     "text": [
      "the number is palindrome\n"
     ]
    }
   ],
   "source": [
    "# Your code here\n",
    "def your_function_15():\n",
    "    n=input(\"Enter a number: \")\n",
    "    rev=reversed(n)\n",
    "    s=''.join(rev)\n",
    "    if n==s:\n",
    "        print(\"the number is palindrome\")\n",
    "    else:\n",
    "        print(\"the number is not palindrome\")\n",
    "your_function_15()"
   ]
  },
  {
   "cell_type": "markdown",
   "id": "b63452cb",
   "metadata": {},
   "source": [
    "### Question 16\n",
    "Write a function to return all even numbers in a list."
   ]
  },
  {
   "cell_type": "code",
   "execution_count": 120,
   "id": "9d1fc968",
   "metadata": {},
   "outputs": [
    {
     "name": "stdout",
     "output_type": "stream",
     "text": [
      "Even numbers in the list are: [2, 4, 6, 8, 10]\n"
     ]
    }
   ],
   "source": [
    "# Your code here\n",
    "def your_function_16():\n",
    "    n=[1,2,3,4,5,6,7,8,9,10]\n",
    "    print(\"Even numbers in the list are:\", [i for i in n if i % 2 == 0])\n",
    "        \n",
    "your_function_16()"
   ]
  },
  {
   "cell_type": "markdown",
   "id": "aca524d9",
   "metadata": {},
   "source": [
    "### Question 17\n",
    "Write a function to return the nth Fibonacci number."
   ]
  },
  {
   "cell_type": "code",
   "execution_count": 127,
   "id": "97dc4e87",
   "metadata": {},
   "outputs": [
    {
     "name": "stdout",
     "output_type": "stream",
     "text": [
      "Fibonacci sequence up to 3 is: 2\n"
     ]
    }
   ],
   "source": [
    "# Your code here\n",
    "def your_function_17(n):\n",
    "    a = 0\n",
    "    b = 1\n",
    "    \n",
    "    for i in range(n):\n",
    "        a,b = b, a + b\n",
    "    print(\"Fibonacci sequence up to\", n, \"is:\", a)\n",
    "n = int(input(\"Enter the number of terms in Fibonacci sequence: \"))\n",
    "your_function_17(n)\n"
   ]
  },
  {
   "cell_type": "markdown",
   "id": "29c847dc",
   "metadata": {},
   "source": [
    "### Question 18\n",
    "Write a function to calculate the average of a list."
   ]
  },
  {
   "cell_type": "code",
   "execution_count": 129,
   "id": "9adc9fd2",
   "metadata": {},
   "outputs": [
    {
     "name": "stdout",
     "output_type": "stream",
     "text": [
      "Average of the list is: 3.0\n"
     ]
    }
   ],
   "source": [
    "# Your code here\n",
    "def your_function_18():\n",
    "    n=[1, 2, 3, 4, 5]\n",
    "    a=len(n)\n",
    "    print(\"Average of the list is:\", sum(n)/a)\n",
    "your_function_18()"
   ]
  },
  {
   "cell_type": "markdown",
   "id": "420240fb",
   "metadata": {},
   "source": [
    "### Question 19\n",
    "Write a function that returns a dictionary of character counts."
   ]
  },
  {
   "cell_type": "code",
   "execution_count": 22,
   "id": "95cafc54",
   "metadata": {},
   "outputs": [],
   "source": [
    "# Your code here\n",
    "def your_function_19():\n",
    "    pass"
   ]
  },
  {
   "cell_type": "markdown",
   "id": "17629a07",
   "metadata": {},
   "source": [
    "### Question 20\n",
    "Write a function that returns True if all list elements are unique."
   ]
  },
  {
   "cell_type": "code",
   "execution_count": 130,
   "id": "fe4f8820",
   "metadata": {},
   "outputs": [
    {
     "data": {
      "text/plain": [
       "True"
      ]
     },
     "execution_count": 130,
     "metadata": {},
     "output_type": "execute_result"
    }
   ],
   "source": [
    "# Your code here\n",
    "def your_function_20():\n",
    "    a=[1,2,3,4,5,'a','b']\n",
    "    l=len(a)\n",
    "    s=len(set(a))\n",
    "    if l==s:\n",
    "        return True\n",
    "    else:\n",
    "        return False\n",
    "your_function_20()\n",
    "\n"
   ]
  },
  {
   "cell_type": "markdown",
   "id": "91dc87b9",
   "metadata": {},
   "source": [
    "### Question 21\n",
    "Write a function that returns dot product of two list of numbers"
   ]
  },
  {
   "cell_type": "code",
   "execution_count": 132,
   "id": "87c3fa4b",
   "metadata": {},
   "outputs": [
    {
     "name": "stdout",
     "output_type": "stream",
     "text": [
      "Dot product is: 32\n"
     ]
    }
   ],
   "source": [
    "# Your code here\n",
    "def your_function_21():\n",
    "    dot_product = 0\n",
    "    v1 = [1, 2, 3]\n",
    "    v2 = [4, 5, 6]\n",
    "    for i in range(len(v1)):\n",
    "        dot_product += v1[i] * v2[i]      \n",
    "    print(\"Dot product is:\", dot_product)\n",
    "your_function_21()"
   ]
  },
  {
   "cell_type": "markdown",
   "id": "5eeb0527",
   "metadata": {},
   "source": [
    "### Question 22\n",
    "Write a function that returns the projection of vector a onto vector b. Both a and b are given as list of numbers"
   ]
  },
  {
   "cell_type": "code",
   "execution_count": 25,
   "id": "d2c2439f",
   "metadata": {},
   "outputs": [],
   "source": [
    "# Your code here\n",
    "def your_function_22():\n",
    "    pass"
   ]
  },
  {
   "cell_type": "markdown",
   "id": "1410b385",
   "metadata": {},
   "source": [
    "### Question 23\n",
    "Write a function to return common elements between two lists."
   ]
  },
  {
   "cell_type": "code",
   "execution_count": 138,
   "id": "2cee584c",
   "metadata": {},
   "outputs": [
    {
     "name": "stdout",
     "output_type": "stream",
     "text": [
      "[5]\n"
     ]
    }
   ],
   "source": [
    "def common_elements(list1, list2):\n",
    "    return list(set(list1) & set(list2))\n",
    "a = [1, 2, 3, 5]\n",
    "b = [4, 5, 6, 7, 8]\n",
    "print(common_elements(a, b))  \n"
   ]
  },
  {
   "cell_type": "markdown",
   "id": "23ab5210",
   "metadata": {},
   "source": [
    "### Question 24\n",
    "Create a class Vector that supports addition, dot product, and magnitude."
   ]
  },
  {
   "cell_type": "code",
   "execution_count": 27,
   "id": "f6b18fd7",
   "metadata": {},
   "outputs": [],
   "source": [
    "# Your code here\n",
    "def your_function_24():\n",
    "    pass"
   ]
  },
  {
   "cell_type": "markdown",
   "id": "a0621aba",
   "metadata": {},
   "source": [
    "### Question 25\n",
    "Implement a function to return all outliers in a list based on the IQR method."
   ]
  },
  {
   "cell_type": "code",
   "execution_count": 28,
   "id": "460a8994",
   "metadata": {},
   "outputs": [],
   "source": [
    "# Your code here\n",
    "def your_function_25():\n",
    "    pass"
   ]
  },
  {
   "cell_type": "markdown",
   "id": "f0be510e",
   "metadata": {},
   "source": [
    "### Question 26\n",
    "Function with default arguments:\n",
    "Create a function to compute variance with an option to use sample or population formula"
   ]
  },
  {
   "cell_type": "code",
   "execution_count": 29,
   "id": "941d732d",
   "metadata": {},
   "outputs": [],
   "source": [
    "# Your code here\n",
    "def your_function_26():\n",
    "    pass"
   ]
  },
  {
   "cell_type": "markdown",
   "id": "c39be0f1",
   "metadata": {},
   "source": [
    "### Question 27\n",
    "Create a list of squares of even numbers between 1 and 20 using list comprehension."
   ]
  },
  {
   "cell_type": "code",
   "execution_count": 30,
   "id": "9e4ba74a",
   "metadata": {},
   "outputs": [],
   "source": [
    "# Your code here\n",
    "def your_function_27():\n",
    "    pass"
   ]
  },
  {
   "cell_type": "markdown",
   "id": "b43c266d",
   "metadata": {},
   "source": [
    "### Question 28\n",
    "Write a function that returns the L1 and L2 norms of a vector given as list"
   ]
  },
  {
   "cell_type": "code",
   "execution_count": 31,
   "id": "4f5dc876",
   "metadata": {},
   "outputs": [],
   "source": [
    "# Your code here\n",
    "def your_function_28():\n",
    "    pass"
   ]
  },
  {
   "cell_type": "markdown",
   "id": "2007915f",
   "metadata": {},
   "source": [
    "### Question 29\n",
    "Write a function that computes the 95% confidence interval for the mean of a list of numbers assuming normal distribution."
   ]
  },
  {
   "cell_type": "code",
   "execution_count": 32,
   "id": "8634dc63",
   "metadata": {},
   "outputs": [],
   "source": [
    "# Your code here\n",
    "def your_function_29():\n",
    "    pass"
   ]
  },
  {
   "cell_type": "markdown",
   "id": "08df3afb",
   "metadata": {},
   "source": [
    "### Question 30\n",
    "Given a list of categorical values, create a frequency distribution dictionary."
   ]
  },
  {
   "cell_type": "code",
   "execution_count": 33,
   "id": "c9b88531",
   "metadata": {},
   "outputs": [],
   "source": [
    "# Your code here\n",
    "def your_function_30():\n",
    "    pass"
   ]
  }
 ],
 "metadata": {
  "kernelspec": {
   "display_name": "Python 3",
   "language": "python",
   "name": "python3"
  },
  "language_info": {
   "codemirror_mode": {
    "name": "ipython",
    "version": 3
   },
   "file_extension": ".py",
   "mimetype": "text/x-python",
   "name": "python",
   "nbconvert_exporter": "python",
   "pygments_lexer": "ipython3",
   "version": "3.13.4"
  }
 },
 "nbformat": 4,
 "nbformat_minor": 5
}
